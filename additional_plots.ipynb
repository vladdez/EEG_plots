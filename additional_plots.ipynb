{
 "cells": [
  {
   "cell_type": "code",
   "execution_count": null,
   "metadata": {},
   "outputs": [],
   "source": [
    "using Pkg\n",
    "Pkg.activate(\"../EEG_plots/env\")"
   ]
  },
  {
   "cell_type": "code",
   "execution_count": null,
   "metadata": {},
   "outputs": [],
   "source": [
    "using Makie\n",
    "using GLMakie\n",
    "using PyMNE\n",
    "using JLD2 # loading data\n",
    "using TopoPlots\n",
    "using StatsBase # mean/std\n",
    "using Pipe\n",
    "using ColorSchemes\n",
    "using Colors\n",
    "using LinearAlgebra"
   ]
  },
  {
   "cell_type": "code",
   "execution_count": null,
   "metadata": {},
   "outputs": [],
   "source": [
    "begin # load  one single-subject dataset \n",
    "\t#p = \"../../../../store/users/ehinger/projects/unfoldjl_dev/dev/UnfoldMakie/artifact/sub-002_ses-N170_task-N170_eeg.set\"\n",
    "\tp = \"../EEG_plots/data/sub-002_ses-N170_task-N170_eeg.set\"\n",
    "    raw = PyMNE.io.read_raw_eeglab(p,preload=true)\n",
    "\t#p_all = \"../../../../store/users/ehinger/projects/unfoldjl_dev/data/erpcore-N170.jld2\"\n",
    "    p_all = \"../EEG_plots/data/erpcore-N170.jld2\"\n",
    "\tpresaved_data = load(p_all)\n",
    "\tdat_e = presaved_data[\"data_e_all\"].* 1e6\n",
    "\tevt_e = presaved_data[\"df_e_all\"]\n",
    "\tmon = PyMNE.channels.make_standard_montage(\"standard_1020\")\n",
    "\traw.set_channel_types(Dict(\"HEOG_left\"=>\"eog\",\"HEOG_right\"=>\"eog\",\"VEOG_lower\"=>\"eog\"))\n",
    "\traw.set_montage(mon,match_case=false)\n",
    "\tpos = PyMNE.channels.make_eeg_layout(get_info(raw)).pos\n",
    "\tpos = [Point2f(pos[k,1],pos[k,2]) for k in 1:size(pos,1)]\n",
    "end;"
   ]
  },
  {
   "cell_type": "code",
   "execution_count": null,
   "metadata": {},
   "outputs": [],
   "source": [
    "let\n",
    "    f = Figure(resolution = (1400, 300))\n",
    "    ax = Axis(f[1, 1], xlabel = \"Activation expected - Activation unexpected [a.u]\", ylabel = \"|z|\",\n",
    "    xlabelsize=30, ylabelsize=30,  yticklabelsize=20,  xticklabelsize=20)\n",
    "    xs = range(-40, 40, length = 80)\n",
    "    ys = range(0, 5, length = 80)\n",
    "    zs = [x * y  for x in xs, y in ys]\n",
    "\n",
    "    heatmap!(xs, ys, zs,  colormap=Reverse(\"RdBu\"))\n",
    "    xlims!(-40, 40)\n",
    "    ylims!(0, 5)\n",
    "    hidespines!(ax, :t, :r)  \n",
    "    f\n",
    "    #save(\"plots/2d_colorbar.jpg\", f)\n",
    "end"
   ]
  }
 ],
 "metadata": {
  "kernelspec": {
   "display_name": "Julia 1.8.0",
   "language": "julia",
   "name": "julia-1.8"
  },
  "language_info": {
   "file_extension": ".jl",
   "mimetype": "application/julia",
   "name": "julia",
   "version": "1.8.0"
  },
  "orig_nbformat": 4,
  "vscode": {
   "interpreter": {
    "hash": "c813ac0529ad8aa3a599245ec8cf1c2004d94139568d269f9c5835e56f8fa2b6"
   }
  }
 },
 "nbformat": 4,
 "nbformat_minor": 2
}
