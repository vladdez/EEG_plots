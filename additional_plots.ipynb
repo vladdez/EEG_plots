{
 "cells": [
  {
   "cell_type": "code",
   "execution_count": null,
   "metadata": {},
   "outputs": [],
   "source": [
    "using Pkg\n",
    "Pkg.activate(\"../EEG_plots/env\")"
   ]
  },
  {
   "cell_type": "code",
   "execution_count": null,
   "metadata": {},
   "outputs": [],
   "source": [
    "using Makie\n",
    "using GLMakie\n",
    "using PyMNE\n",
    "using JLD2 # loading data\n",
    "using TopoPlots\n",
    "using StatsBase # mean/std\n",
    "using Pipe\n",
    "using ColorSchemes\n",
    "using Colors\n",
    "using LinearAlgebra"
   ]
  },
  {
   "cell_type": "code",
   "execution_count": null,
   "metadata": {},
   "outputs": [],
   "source": [
    "let\n",
    "    f = Figure(resolution = (1400, 300))\n",
    "    ax = Axis(f[1, 1], xlabel = \"Activation expected - Activation unexpected [a.u]\", ylabel = \"|z|\",\n",
    "    xlabelsize=30, ylabelsize=30,  yticklabelsize=20,  xticklabelsize=20)\n",
    "    xs = range(-40, 40, length = 80)\n",
    "    ys = range(0, 5, length = 80)\n",
    "    zs = [x * y  for x in xs, y in ys]\n",
    "\n",
    "    heatmap!(xs, ys, zs,  colormap=Reverse(\"RdBu\"))\n",
    "    xlims!(-40, 40)\n",
    "    ylims!(0, 5)\n",
    "    hidespines!(ax, :t, :r)  \n",
    "    f\n",
    "    #save(\"plots/2d_colorbar.jpg\", f)\n",
    "end"
   ]
  }
 ],
 "metadata": {
  "kernelspec": {
   "display_name": "Julia 1.8.0",
   "language": "julia",
   "name": "julia-1.8"
  },
  "language_info": {
   "file_extension": ".jl",
   "mimetype": "application/julia",
   "name": "julia",
   "version": "1.8.0"
  },
  "orig_nbformat": 4,
  "vscode": {
   "interpreter": {
    "hash": "c813ac0529ad8aa3a599245ec8cf1c2004d94139568d269f9c5835e56f8fa2b6"
   }
  }
 },
 "nbformat": 4,
 "nbformat_minor": 2
}
